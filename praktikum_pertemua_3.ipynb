{
  "nbformat": 4,
  "nbformat_minor": 0,
  "metadata": {
    "colab": {
      "provenance": [],
      "authorship_tag": "ABX9TyMJAbg7+6Ztexlm+EiOO4Qt",
      "include_colab_link": true
    },
    "kernelspec": {
      "name": "python3",
      "display_name": "Python 3"
    },
    "language_info": {
      "name": "python"
    }
  },
  "cells": [
    {
      "cell_type": "markdown",
      "metadata": {
        "id": "view-in-github",
        "colab_type": "text"
      },
      "source": [
        "<a href=\"https://colab.research.google.com/github/azizrabbani2020-arch/tugas-pertemuan-3/blob/main/praktikum_pertemua_3.ipynb\" target=\"_parent\"><img src=\"https://colab.research.google.com/assets/colab-badge.svg\" alt=\"Open In Colab\"/></a>"
      ]
    },
    {
      "cell_type": "code",
      "execution_count": null,
      "metadata": {
        "colab": {
          "base_uri": "https://localhost:8080/"
        },
        "id": "iiXefxLAI1gQ",
        "outputId": "89cbe719-231d-44e0-b7ca-04ecd1d12bce"
      },
      "outputs": [
        {
          "name": "stdout",
          "output_type": "stream",
          "text": [
            "Beberapa porsi makan yang anda beli? : 2\n",
            "Siapa Nama pelanggan ? : Aziz\n"
          ]
        }
      ],
      "source": [
        "total = input(\"Beberapa porsi makan yang anda beli? : \")\n",
        "Nama = input(\"Siapa Nama pelanggan ? : \")"
      ]
    },
    {
      "cell_type": "code",
      "source": [
        "total = int (input(\"Berapa porsi makan yang Anda beli? : \"))\n",
        "Nama = str (input(\"Siapa Nama pelanggan? : \"))"
      ],
      "metadata": {
        "colab": {
          "base_uri": "https://localhost:8080/"
        },
        "id": "TIK7kYg-K8D_",
        "outputId": "4020565c-90b3-4aac-b427-74e627df3fd3"
      },
      "execution_count": null,
      "outputs": [
        {
          "name": "stdout",
          "output_type": "stream",
          "text": [
            "Berapa porsi makan yang Anda beli? : 2\n",
            "Siapa Nama pelanggan? : Aziz\n"
          ]
        }
      ]
    },
    {
      "cell_type": "code",
      "source": [
        "food = \"Mi ayam bakso\"\n",
        "print(\"Bang Randi sedang memesan\", food)"
      ],
      "metadata": {
        "colab": {
          "base_uri": "https://localhost:8080/"
        },
        "id": "91M_rmY-MV5a",
        "outputId": "05d504cb-49b8-4010-a884-2bc049b8418d"
      },
      "execution_count": null,
      "outputs": [
        {
          "output_type": "stream",
          "name": "stdout",
          "text": [
            "Bang Randi sedang memesan Mi ayam bakso\n"
          ]
        }
      ]
    },
    {
      "cell_type": "code",
      "source": [
        "food = \"Mi ayam bakso\"\n",
        "print(\"Bang Randi sedang memesan\", food)\n",
        "print(\"Bang Randi sedang memesan \"+ food)\n",
        "print(\"Bang Randi sedang memesan %s\" % (food))"
      ],
      "metadata": {
        "colab": {
          "base_uri": "https://localhost:8080/"
        },
        "id": "D_F7l67hMwSs",
        "outputId": "5fc7dbad-63d7-4d32-ed84-0e03f4e5e72d"
      },
      "execution_count": null,
      "outputs": [
        {
          "output_type": "stream",
          "name": "stdout",
          "text": [
            "Bang Randi sedang memesan Mi ayam bakso\n",
            "Bang Randi sedang memesan Mi ayam bakso\n",
            "Bang Randi sedang memesan Mi ayam bakso\n"
          ]
        }
      ]
    },
    {
      "cell_type": "code",
      "source": [
        "# Input jumlah porsi makan (float) dan nama pelanggan (string)\n",
        "total = float(input(\"Berapa porsi makan yang Anda beli? : \"))\n",
        "nama = str(input(\"Siapa Nama Pelanggan? : \"))\n",
        "\n",
        "print(f\"Pelanggan {nama} membeli {total} porsi makan.\")\n"
      ],
      "metadata": {
        "id": "I_5pUCsXNmTx",
        "colab": {
          "base_uri": "https://localhost:8080/"
        },
        "outputId": "a179046b-1784-4590-9327-3284372b27f2"
      },
      "execution_count": 4,
      "outputs": [
        {
          "output_type": "stream",
          "name": "stdout",
          "text": [
            "Berapa porsi makan yang Anda beli? : 2\n",
            "Siapa Nama Pelanggan? : Aziz\n",
            "Pelanggan Aziz membeli 2.0 porsi makan.\n"
          ]
        }
      ]
    },
    {
      "cell_type": "code",
      "source": [
        "# Contoh penggunaan berbagai format output\n",
        "angka_int = 25\n",
        "angka_float = 12.75\n",
        "teks = \"Python\"\n",
        "angka_hex = 255\n",
        "angka_oct = 64\n",
        "\n",
        "print(\"Contoh integer: %d\" % angka_int)\n",
        "print(\"Contoh float: %.2f\" % angka_float)\n",
        "print(\"Contoh string: %s\" % teks)\n",
        "print(\"Contoh heksadesimal: %x\" % angka_hex)\n",
        "print(\"Contoh octal: %o\" % angka_oct)\n"
      ],
      "metadata": {
        "colab": {
          "base_uri": "https://localhost:8080/"
        },
        "id": "VcXH7Sw6mFm2",
        "outputId": "9947d17a-1a72-436a-9e72-bf407b54e526"
      },
      "execution_count": 5,
      "outputs": [
        {
          "output_type": "stream",
          "name": "stdout",
          "text": [
            "Contoh integer: 25\n",
            "Contoh float: 12.75\n",
            "Contoh string: Python\n",
            "Contoh heksadesimal: ff\n",
            "Contoh octal: 100\n"
          ]
        }
      ]
    },
    {
      "cell_type": "code",
      "source": [
        "a = 20\n",
        "b = 5\n",
        "\n",
        "print(\"Penjumlahan:\", a + b)\n",
        "print(\"Pengurangan:\", a - b)\n",
        "print(\"Perkalian:\", a * b)\n",
        "print(\"Pembagian:\", a / b)\n"
      ],
      "metadata": {
        "colab": {
          "base_uri": "https://localhost:8080/"
        },
        "id": "UTHj3HHLmUqh",
        "outputId": "b7345c54-077c-4fcd-fff7-32a4bb910237"
      },
      "execution_count": 7,
      "outputs": [
        {
          "output_type": "stream",
          "name": "stdout",
          "text": [
            "Penjumlahan: 25\n",
            "Pengurangan: 15\n",
            "Perkalian: 100\n",
            "Pembagian: 4.0\n"
          ]
        }
      ]
    },
    {
      "cell_type": "code",
      "source": [
        "harga_makan = int(input(\"Berapa harga mi ayam per porsi? \"))\n",
        "jumlah_makan = int(input(\"Berapa porsi yang Anda beli? \"))\n",
        "total_makan = harga_makan * jumlah_makan\n",
        "\n",
        "print(f\"Harga makan per porsi = {harga_makan}, totalnya adalah {total_makan}\")\n"
      ],
      "metadata": {
        "colab": {
          "base_uri": "https://localhost:8080/"
        },
        "id": "ltjGYqG1mie6",
        "outputId": "e4654629-6844-4524-be6a-bb62777bfa59"
      },
      "execution_count": 9,
      "outputs": [
        {
          "output_type": "stream",
          "name": "stdout",
          "text": [
            "Berapa harga mi ayam per porsi? 12000\n",
            "Berapa porsi yang Anda beli? 2\n",
            "Harga makan per porsi = 12000, totalnya adalah 24000\n"
          ]
        }
      ]
    },
    {
      "cell_type": "code",
      "source": [
        "total_detik = int(input(\"Masukkan total detik: \"))\n",
        "\n",
        "jam = total_detik // 3600\n",
        "sisa_detik = total_detik % 3600\n",
        "menit = sisa_detik // 60\n",
        "detik = sisa_detik % 60\n",
        "\n",
        "print(f\"Hasil Konversi: {jam} Jam, {menit} Menit, {detik} Detik\")\n"
      ],
      "metadata": {
        "colab": {
          "base_uri": "https://localhost:8080/"
        },
        "id": "KeRq6ePImo7O",
        "outputId": "eeda78da-b384-4934-eef0-d59f4bea9205"
      },
      "execution_count": 11,
      "outputs": [
        {
          "output_type": "stream",
          "name": "stdout",
          "text": [
            "Masukkan total detik: 120\n",
            "Hasil Konversi: 0 Jam, 2 Menit, 0 Detik\n"
          ]
        }
      ]
    },
    {
      "cell_type": "code",
      "source": [
        "# Input nilai mahasiswa\n",
        "tugas = float(input(\"Masukkan nilai tugas: \"))\n",
        "uts = float(input(\"Masukkan nilai UTS: \"))\n",
        "uas = float(input(\"Masukkan nilai UAS: \"))\n",
        "\n",
        "nilai_akhir = (0.3 * tugas) + (0.3 * uts) + (0.4 * uas)\n",
        "print(\"Nilai akhir =\", nilai_akhir)\n"
      ],
      "metadata": {
        "colab": {
          "base_uri": "https://localhost:8080/"
        },
        "id": "RA31XmNsmwXc",
        "outputId": "4e7eed4e-560c-4024-be1c-87b5cd412797"
      },
      "execution_count": 13,
      "outputs": [
        {
          "output_type": "stream",
          "name": "stdout",
          "text": [
            "Masukkan nilai tugas: 75\n",
            "Masukkan nilai UTS: 80\n",
            "Masukkan nilai UAS: 95\n",
            "Nilai akhir = 84.5\n"
          ]
        }
      ]
    },
    {
      "cell_type": "code",
      "source": [
        "# Input nilai dari 5 mata kuliah\n",
        "nilai_mahasiswa = []\n",
        "for i in range(5):\n",
        "    nilai = float(input(f\"Masukkan nilai mata kuliah ke-{i+1}: \"))\n",
        "    nilai_mahasiswa.append(nilai)\n",
        "\n",
        "standar_kelulusan = float(input(\"Masukkan standar kelulusan: \"))\n",
        "\n",
        "# Hitung rata-rata\n",
        "rata2 = sum(nilai_mahasiswa) / len(nilai_mahasiswa)\n",
        "lulus = rata2 >= standar_kelulusan\n",
        "\n",
        "print(f\"Nilai mahasiswa: {nilai_mahasiswa}\")\n",
        "print(f\"Rata-rata: {rata2}\")\n",
        "print(f\"Standar Kelulusan: {standar_kelulusan}\")\n",
        "print(f\"Apakah mahasiswa lulus? {lulus}\")\n"
      ],
      "metadata": {
        "colab": {
          "base_uri": "https://localhost:8080/"
        },
        "id": "x43E-vxBnBRB",
        "outputId": "464d0d2e-c626-4f5e-d40f-8fc0160c0b0f"
      },
      "execution_count": 14,
      "outputs": [
        {
          "output_type": "stream",
          "name": "stdout",
          "text": [
            "Masukkan nilai mata kuliah ke-1: 80\n",
            "Masukkan nilai mata kuliah ke-2: 85\n",
            "Masukkan nilai mata kuliah ke-3: 90\n",
            "Masukkan nilai mata kuliah ke-4: 76\n",
            "Masukkan nilai mata kuliah ke-5: 60\n",
            "Masukkan standar kelulusan: 85\n",
            "Nilai mahasiswa: [80.0, 85.0, 90.0, 76.0, 60.0]\n",
            "Rata-rata: 78.2\n",
            "Standar Kelulusan: 85.0\n",
            "Apakah mahasiswa lulus? False\n"
          ]
        }
      ]
    },
    {
      "cell_type": "code",
      "source": [
        "belanja = float(input(\"Masukkan total belanja: \"))\n",
        "\n",
        "if belanja > 1000000:\n",
        "    diskon = 0.35 * belanja\n",
        "elif belanja > 500000:\n",
        "    diskon = 0.1 * belanja\n",
        "else:\n",
        "    diskon = 0\n",
        "\n",
        "total_harga = belanja - diskon\n",
        "print(\"Total harga setelah diskon =\", total_harga)\n"
      ],
      "metadata": {
        "colab": {
          "base_uri": "https://localhost:8080/"
        },
        "id": "hGrxIlqLnA7e",
        "outputId": "24da1243-ecd8-4d1d-bbd0-e27d0c67325d"
      },
      "execution_count": 15,
      "outputs": [
        {
          "output_type": "stream",
          "name": "stdout",
          "text": [
            "Masukkan total belanja: 54000\n",
            "Total harga setelah diskon = 54000.0\n"
          ]
        }
      ]
    }
  ]
}