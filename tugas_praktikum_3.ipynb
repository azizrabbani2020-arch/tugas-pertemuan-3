{
  "nbformat": 4,
  "nbformat_minor": 0,
  "metadata": {
    "colab": {
      "provenance": [],
      "authorship_tag": "ABX9TyNsJnzgO+W/Va+uw5OT9VTh",
      "include_colab_link": true
    },
    "kernelspec": {
      "name": "python3",
      "display_name": "Python 3"
    },
    "language_info": {
      "name": "python"
    }
  },
  "cells": [
    {
      "cell_type": "markdown",
      "metadata": {
        "id": "view-in-github",
        "colab_type": "text"
      },
      "source": [
        "<a href=\"https://colab.research.google.com/github/azizrabbani2020-arch/tugas-pertemuan-3/blob/main/tugas_praktikum_3.ipynb\" target=\"_parent\"><img src=\"https://colab.research.google.com/assets/colab-badge.svg\" alt=\"Open In Colab\"/></a>"
      ]
    },
    {
      "cell_type": "code",
      "source": [
        "# Fungsi untuk mengecek apakah tahun kabisat\n",
        "def cek_kabisat(tahun):\n",
        "    # ekspresi logika kabisat\n",
        "    if (tahun % 4 == 0 and tahun % 100 != 0) or (tahun % 400 == 0):\n",
        "        return True\n",
        "    else:\n",
        "        return False\n",
        "\n",
        "# Input dari user\n",
        "tahun = int(input(\"Masukkan tahun: \"))\n",
        "\n",
        "# Output hasil\n",
        "if cek_kabisat(tahun):\n",
        "    print(f\"{tahun} adalah tahun kabisat.\")\n",
        "else:\n",
        "    print(f\"{tahun} bukan tahun kabisat.\")\n"
      ],
      "metadata": {
        "colab": {
          "base_uri": "https://localhost:8080/"
        },
        "id": "MIIuD_WfRIzv",
        "outputId": "188c3bd5-bfd3-4cca-b0ef-bbd4099aadf9"
      },
      "execution_count": 2,
      "outputs": [
        {
          "output_type": "stream",
          "name": "stdout",
          "text": [
            "Masukkan tahun: 25\n",
            "25 bukan tahun kabisat.\n"
          ]
        }
      ]
    }
  ]
}