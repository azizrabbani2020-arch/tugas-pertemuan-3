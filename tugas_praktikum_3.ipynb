{
  "nbformat": 4,
  "nbformat_minor": 0,
  "metadata": {
    "colab": {
      "provenance": [],
      "authorship_tag": "ABX9TyMitWWnxBTt0EVmwxBuHIcx",
      "include_colab_link": true
    },
    "kernelspec": {
      "name": "python3",
      "display_name": "Python 3"
    },
    "language_info": {
      "name": "python"
    }
  },
  "cells": [
    {
      "cell_type": "markdown",
      "metadata": {
        "id": "view-in-github",
        "colab_type": "text"
      },
      "source": [
        "<a href=\"https://colab.research.google.com/github/azizrabbani2020-arch/tugas-pertemuan-3/blob/main/tugas_praktikum_3.ipynb\" target=\"_parent\"><img src=\"https://colab.research.google.com/assets/colab-badge.svg\" alt=\"Open In Colab\"/></a>"
      ]
    },
    {
      "cell_type": "code",
      "source": [
        "# Fungsi untuk mengecek apakah tahun kabisat\n",
        "def cek_kabisat(tahun):\n",
        "    # ekspresi logika kabisat\n",
        "    if (tahun % 4 == 0 and tahun % 100 != 0) or (tahun % 400 == 0):\n",
        "        return True\n",
        "    else:\n",
        "        return False\n",
        "\n",
        "# Input dari user\n",
        "tahun = int(input(\"Masukkan tahun: \"))\n",
        "\n",
        "# Output hasil\n",
        "if cek_kabisat(tahun):\n",
        "    print(f\"{tahun} adalah tahun kabisat.\")\n",
        "else:\n",
        "    print(f\"{tahun} bukan tahun kabisat.\")\n"
      ],
      "metadata": {
        "id": "MIIuD_WfRIzv",
        "outputId": "c1aa3fae-5d0c-4bfe-ce10-127d54680f94",
        "colab": {
          "base_uri": "https://localhost:8080/"
        }
      },
      "execution_count": 1,
      "outputs": [
        {
          "output_type": "stream",
          "name": "stdout",
          "text": [
            "Masukkan tahun: 25\n",
            "25 bukan tahun kabisat.\n"
          ]
        }
      ]
    },
    {
      "cell_type": "code",
      "source": [
        "# Program Kasir Sederhana\n",
        "\n",
        "# Input daftar harga item yang dibeli\n",
        "# Misalnya user memasukkan harga item dalam bentuk list\n",
        "items = [35000, 30000, 60000]  # contoh: kopi latte, cappuccino, pastry\n",
        "\n",
        "# Input status member\n",
        "is_member = True  # ubah ke False jika bukan member\n",
        "\n",
        "# 1. Hitung Subtotal\n",
        "subtotal = sum(items)\n",
        "print(\"Subtotal: Rp\", subtotal)\n",
        "\n",
        "# 2. Evaluasi Syarat Diskon\n",
        "if is_member and subtotal > 100000:\n",
        "    discount_rate = 0.15\n",
        "else:\n",
        "    discount_rate = 0\n",
        "\n",
        "# 3. Hitung Jumlah Diskon\n",
        "discount_amount = subtotal * discount_rate\n",
        "print(\"Diskon: Rp\", discount_amount)\n",
        "\n",
        "# 4. Hitung Harga Setelah Diskon\n",
        "price_after_discount = subtotal - discount_amount\n",
        "print(\"Harga setelah diskon: Rp\", price_after_discount)\n",
        "\n",
        "# 5. Hitung PPN (11%)\n",
        "ppn = price_after_discount * 0.11\n",
        "print(\"PPN (11%): Rp\", ppn)\n",
        "\n",
        "# 6. Hitung Total Akhir\n",
        "total = price_after_discount + ppn\n",
        "print(\"Total yang harus dibayar: Rp\", total)\n"
      ],
      "metadata": {
        "colab": {
          "base_uri": "https://localhost:8080/"
        },
        "id": "NO3hbadejuuo",
        "outputId": "98e649fb-1846-45b2-86a6-d31c8d174894"
      },
      "execution_count": 5,
      "outputs": [
        {
          "output_type": "stream",
          "name": "stdout",
          "text": [
            "Subtotal: Rp 125000\n",
            "Diskon: Rp 18750.0\n",
            "Harga setelah diskon: Rp 106250.0\n",
            "PPN (11%): Rp 11687.5\n",
            "Total yang harus dibayar: Rp 117937.5\n"
          ]
        }
      ]
    }
  ]
}